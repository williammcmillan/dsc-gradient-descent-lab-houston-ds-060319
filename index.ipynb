{
 "cells": [
  {
   "cell_type": "markdown",
   "metadata": {},
   "source": [
    "# Gradient Descent - Lab\n",
    "\n",
    "## Introduction\n",
    "\n",
    "In this lab, you'll continue to formalize your knowledge of gradient descent by coding the algorithm yourself. In the upcoming labs, you'll apply similar procedures to implement logistic regression on your own.\n",
    "\n",
    "## Objectives\n",
    "You will be able to:\n",
    "* Create a full gradient descent algorithm"
   ]
  },
  {
   "cell_type": "markdown",
   "metadata": {},
   "source": [
    "## Using Gradient Descent to Minimize OLS\n",
    "\n",
    "In order to practice gradient descent, you'll investigate a simple regression case in which you're looking to minimize the Residual Sum of Squares (RSS) between the predictions and the actual values. Remember that this is referred to Ordinary Least Squares (OLS) regression. Below, is a mock dataset that to work with. Preview the dataset. Then, you'll compare two simplistic models. From there, you'll use gradient descent to improve upon these  initial models.\n",
    "\n",
    "## Loading the Dataset"
   ]
  },
  {
   "cell_type": "code",
   "execution_count": 2,
   "metadata": {},
   "outputs": [
    {
     "data": {
      "text/html": [
       "<div>\n",
       "<style scoped>\n",
       "    .dataframe tbody tr th:only-of-type {\n",
       "        vertical-align: middle;\n",
       "    }\n",
       "\n",
       "    .dataframe tbody tr th {\n",
       "        vertical-align: top;\n",
       "    }\n",
       "\n",
       "    .dataframe thead th {\n",
       "        text-align: right;\n",
       "    }\n",
       "</style>\n",
       "<table border=\"1\" class=\"dataframe\">\n",
       "  <thead>\n",
       "    <tr style=\"text-align: right;\">\n",
       "      <th></th>\n",
       "      <th>budget</th>\n",
       "      <th>domgross</th>\n",
       "      <th>title</th>\n",
       "    </tr>\n",
       "  </thead>\n",
       "  <tbody>\n",
       "    <tr>\n",
       "      <th>0</th>\n",
       "      <td>13000000</td>\n",
       "      <td>25682380</td>\n",
       "      <td>21 &amp;amp; Over</td>\n",
       "    </tr>\n",
       "    <tr>\n",
       "      <th>1</th>\n",
       "      <td>45658735</td>\n",
       "      <td>13414714</td>\n",
       "      <td>Dredd 3D</td>\n",
       "    </tr>\n",
       "    <tr>\n",
       "      <th>2</th>\n",
       "      <td>20000000</td>\n",
       "      <td>53107035</td>\n",
       "      <td>12 Years a Slave</td>\n",
       "    </tr>\n",
       "    <tr>\n",
       "      <th>3</th>\n",
       "      <td>61000000</td>\n",
       "      <td>75612460</td>\n",
       "      <td>2 Guns</td>\n",
       "    </tr>\n",
       "    <tr>\n",
       "      <th>4</th>\n",
       "      <td>40000000</td>\n",
       "      <td>95020213</td>\n",
       "      <td>42</td>\n",
       "    </tr>\n",
       "  </tbody>\n",
       "</table>\n",
       "</div>"
      ],
      "text/plain": [
       "     budget  domgross             title\n",
       "0  13000000  25682380     21 &amp; Over\n",
       "1  45658735  13414714          Dredd 3D\n",
       "2  20000000  53107035  12 Years a Slave\n",
       "3  61000000  75612460            2 Guns\n",
       "4  40000000  95020213                42"
      ]
     },
     "execution_count": 2,
     "metadata": {},
     "output_type": "execute_result"
    }
   ],
   "source": [
    "#The dataset\n",
    "import pandas as pd\n",
    "df = pd.read_excel('movie_data.xlsx')\n",
    "df.head()"
   ]
  },
  {
   "cell_type": "markdown",
   "metadata": {},
   "source": [
    "## Two Simplistic Models\n",
    "\n",
    "Imagine someone is attempting to predict the domestic gross sales of a movie based on the movie's budget, or at least further investigate how these two quantities are related. Two models are suggested, and need to be compared.  \n",
    "The two models are:  \n",
    "$\\text{domgross} = 1.575 \\cdot \\text{budget}$  \n",
    "$\\text{domgross} = 1.331 \\cdot \\text{budget}$  \n",
    "Here's a graph of the two models along with the actual data:"
   ]
  },
  {
   "cell_type": "code",
   "execution_count": 2,
   "metadata": {},
   "outputs": [
    {
     "data": {
      "text/plain": [
       "<matplotlib.legend.Legend at 0x7f0b002dd9b0>"
      ]
     },
     "execution_count": 2,
     "metadata": {},
     "output_type": "execute_result"
    },
    {
     "data": {
      "image/png": "[encoded data removed]",
      "text/plain": [
       "<Figure size 432x288 with 1 Axes>"
      ]
     },
     "metadata": {
      "needs_background": "light"
     },
     "output_type": "display_data"
    }
   ],
   "source": [
    "import numpy as np\n",
    "import matplotlib.pyplot as plt\n",
    "\n",
    "%matplotlib inline\n",
    "\n",
    "x = np.linspace(start=df.budget.min(), stop=df.budget.max(), num=10**5)\n",
    "plt.scatter(x, 1.575*x, label='Mean Ratio Model') #Model 1\n",
    "plt.scatter(x, 1.331*x, label='Median Ratio Model') #Model 2\n",
    "plt.scatter(df.budget, df.domgross, label='Actual Data Points')\n",
    "plt.title('Gross Domestic Sales vs. Budget', fontsize=20)\n",
    "plt.xlabel('Budget', fontsize=16)\n",
    "plt.ylabel('Gross Domestic Sales', fontsize=16)\n",
    "plt.legend(bbox_to_anchor=(1,1))"
   ]
  },
  {
   "cell_type": "markdown",
   "metadata": {},
   "source": [
    "## Error/Loss Functions\n",
    "\n",
    "In order to compare the two models (and future ones), a metric for evaluating and comparing models to each other is needed. Traditionally this is the residual sum of squares. As such you are looking to minimize  $ \\sum(\\hat{y}-y)^2$.\n",
    "Write a function **rss(m)** which calculates the residual sum of squares for a simplistic model $\\text{domgross} = m \\cdot \\text{budget}$."
   ]
  },
  {
   "cell_type": "code",
   "execution_count": 3,
   "metadata": {},
   "outputs": [],
   "source": [
    "def rss(m, X=df.budget, y=df.domgross):\n",
    "    model = m * X\n",
    "    residuals = model - y\n",
    "    total_rss = residuals.map(lambda x: x**2).sum()\n",
    "    return total_rss"
   ]
  },
  {
   "cell_type": "markdown",
   "metadata": {},
   "source": [
    "## Run your RSS function on the two models\n",
    "Which of the two models is better?"
   ]
  },
  {
   "cell_type": "code",
   "execution_count": 4,
   "metadata": {},
   "outputs": [
    {
     "name": "stdout",
     "output_type": "stream",
     "text": [
      "Model 1 RSS: 2.7614512142376128e+17\n",
      "Model 2 RSS: 2.3547212057814554e+17\n"
     ]
    }
   ],
   "source": [
    "#Your code here\n",
    "print('Model 1 RSS:', rss(1.575))\n",
    "print('Model 2 RSS:', rss(1.331))"
   ]
  },
  {
   "cell_type": "code",
   "execution_count": null,
   "metadata": {},
   "outputs": [],
   "source": [
    "#Your response here"
   ]
  },
  {
   "cell_type": "markdown",
   "metadata": {},
   "source": [
    "## Gradient Descent\n",
    "\n",
    "Now that you have a loss function, you can use numerical methods to find a minimum to the loss function. By minimizing the loss function, you have achieved an optimal solution according to the problem formulation. Here's the outline of gradient descent from the previous lesson:  \n",
    "\n",
    "1. Define initial parameters:\n",
    "    1. pick a starting point\n",
    "    2. pick a step size $\\alpha$ (alpha)\n",
    "    3. choose a maximum number of iterations; the algorithm will terminate after this many iterations if a minimum has yet to be found\n",
    "    4. (optionally) define a precision parameter; similar to the maximum number of iterations, this will terminate the algorithm early. For example, one might define a precision parameter of 0.00001, in which case if the change in the loss function were less then 0.00001, the algorithm would terminate. The idea is that we are very close to the bottom and further iterations would make a negligible difference.\n",
    "2. Calculate the gradient at the current point (initially, the starting point)\n",
    "3. Take a step (of size alpha) in the direction of the gradient\n",
    "4. Repeat steps 2 and 3 until the maximum number of iterations is met, or the difference between two points is less then your precision parameter  \n",
    "\n",
    "To start, visualize the cost function. Plot the cost function output for a range of m values from -3 to 5."
   ]
  },
  {
   "cell_type": "code",
   "execution_count": 8,
   "metadata": {},
   "outputs": [
    {
     "data": {
      "text/plain": [
       "Text(0.5, 1.0, 'RSS Loss Function for Various Values of m')"
      ]
     },
     "execution_count": 8,
     "metadata": {},
     "output_type": "execute_result"
    },
    {
     "data": {
      "image/png": "[encoded data removed]",
      "text/plain": [
       "<Figure size 432x288 with 1 Axes>"
      ]
     },
     "metadata": {
      "needs_background": "light"
     },
     "output_type": "display_data"
    }
   ],
   "source": [
    "#Your code here\n",
    "import pandas as pd\n",
    "import numpy as np\n",
    "import matplotlib.pyplot as plt\n",
    "\n",
    "%matplotlib inline\n",
    "\n",
    "x = np.linspace(start=-3, stop=5, num=10**3)\n",
    "y = [rss(xi) for xi in x]\n",
    "plt.plot(x, y)\n",
    "plt.title('RSS Loss Function for Various Values of m')#Your code here"
   ]
  },
  {
   "cell_type": "markdown",
   "metadata": {},
   "source": [
    "As you can see, this is a simple cost function. The minimum is clearly around 1. With that, it's time to implement gradient descent in order to find the optimal value for m."
   ]
  },
  {
   "cell_type": "code",
   "execution_count": 9,
   "metadata": {},
   "outputs": [
    {
     "name": "stdout",
     "output_type": "stream",
     "text": [
      "1e-07\n",
      "Current value: 1.5 RSS Produced: 2.6084668957174013e+17\n",
      "Current value: 1.133065571442482 RSS Produced: 2.2177730533770314e+17\n",
      "Current value: 1.1131830522748978 RSS Produced: 2.2135715390729418e+17\n",
      "Current value: 1.1124754156940848 RSS Produced: 2.21345414998669e+17\n",
      "Current value: 1.1124506992634624 RSS Produced: 2.2134500897406422e+17\n",
      "Current value: 1.1124498365366489 RSS Produced: 2.213449948066475e+17\n",
      "Current value: 1.1124498064238728 RSS Produced: 2.2134499431215123e+17\n",
      "Current value: 1.1124498053728105 RSS Produced: 2.213449942948913e+17\n",
      "The local minimum occurs at 1.1124498053361267\n"
     ]
    }
   ],
   "source": [
    "cur_x = 1.5 # The algorithm starts at x=1.5\n",
    "alpha = 1*10**(-7) # step size multiplier\n",
    "print(alpha)\n",
    "precision = 0.0000000001\n",
    "previous_step_size = 1 \n",
    "max_iters = 10000 # maximum number of iterations\n",
    "iters = 0 #iteration counter\n",
    "\n",
    "#Create a loop to iterate through the algorithm until either the max_iteration or precision conditions is met\n",
    "while (previous_step_size > precision) & (iters < max_iters):\n",
    "    print('Current value: {} RSS Produced: {}'.format(cur_x, rss(cur_x)))\n",
    "    prev_x = cur_x\n",
    "    #Calculate the gradient. This is often done by hand to reduce computational complexity.\n",
    "    #For here, generate points surrounding your current state, then calculate the rss of these points\n",
    "    #Finally, use the np.gradient() method on this survey region. This code is provided here to ease this portion of the algorithm implementation\n",
    "    x_survey_region = np.linspace(start = cur_x - previous_step_size , stop = cur_x + previous_step_size , num = 101)\n",
    "    rss_survey_region = [np.sqrt(rss(m)) for m in x_survey_region]\n",
    "    gradient = np.gradient(rss_survey_region)[50] \n",
    "    cur_x -= alpha * gradient #Move opposite the gradient\n",
    "    previous_step_size = abs(cur_x - prev_x)\n",
    "    iters+=1\n",
    "\n",
    "print(\"The local minimum occurs at\", cur_x)\n",
    "#The output for the above will be: ('The local minimum occurs at', 1.1124498053361267)"
   ]
  },
  {
   "cell_type": "markdown",
   "metadata": {},
   "source": [
    "## Plot the minimum on your graph\n",
    "Replot the RSS cost curve as above. Add a red dot for the minimum of this graph using the solution from your gradient descent function above."
   ]
  },
  {
   "cell_type": "code",
   "execution_count": null,
   "metadata": {},
   "outputs": [],
   "source": [
    "#Your code here\n",
    "x = np.linspace(start=-3, stop=5, num=10**3)\n",
    "y = [rss(xi) for xi in x]\n",
    "plt.plot(x, y)\n",
    "plt.scatter(1.1124498053361267, rss(1.1124498053361267), c='red')\n",
    "plt.title('RSS Loss Function for Various Values of m, with minimum marked')"
   ]
  },
  {
   "cell_type": "markdown",
   "metadata": {},
   "source": [
    "## Summary \n",
    "\n",
    "In this lab you coded up a gradient descent algorithm from scratch! In the next lab, you'll apply this to logistic regression in order to create a full implementation yourself!"
   ]
  }
 ],
 "metadata": {
  "kernelspec": {
   "display_name": "Python 3",
   "language": "python",
   "name": "python3"
  },
  "language_info": {
   "codemirror_mode": {
    "name": "ipython",
    "version": 3
   },
   "file_extension": ".py",
   "mimetype": "text/x-python",
   "name": "python",
   "nbconvert_exporter": "python",
   "pygments_lexer": "ipython3",
   "version": "3.6.6"
  }
 },
 "nbformat": 4,
 "nbformat_minor": 2
}
